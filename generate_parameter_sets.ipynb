{
 "cells": [
  {
   "cell_type": "markdown",
   "id": "1bef0e1e-a54a-4f54-8800-1bf0c36a372f",
   "metadata": {},
   "source": [
    "# Generate 1024 parameter sets for Max Rintoul to effectivley sample his parameter space"
   ]
  },
  {
   "cell_type": "markdown",
   "id": "d7b177e7-6b59-4106-bfb3-7260fd3f1e9f",
   "metadata": {},
   "source": [
    "### imports"
   ]
  },
  {
   "cell_type": "code",
   "execution_count": 3,
   "id": "bb8573c7-143c-44a1-af46-b4802095c793",
   "metadata": {},
   "outputs": [
    {
     "name": "stdout",
     "output_type": "stream",
     "text": [
      "python version = 3.10.\n",
      "numpy version = 1.26.4\n",
      "pandas version = 2.2.3\n",
      "scipy version = 1.14.1\n",
      "matplotlib version = 3.9.2\n"
     ]
    }
   ],
   "source": [
    "import sys\n",
    "import os\n",
    "import numpy as np\n",
    "import matplotlib.pyplot as plt\n",
    "import pandas as pd\n",
    "import scipy as sci\n",
    "from scipy.stats import qmc\n",
    "\n",
    "wrkdir = \"/home/581/pjb581/for_MaxRintoul\"\n",
    "\n",
    "# print versions of packages\n",
    "print(\"python version =\",sys.version[:5])\n",
    "print(\"numpy version =\", np.__version__)\n",
    "print(\"pandas version =\", pd.__version__)\n",
    "print(\"scipy version =\", sci.__version__)\n",
    "print(\"matplotlib version =\", sys.modules[plt.__package__].__version__)\n",
    "\n",
    "os.chdir(wrkdir)\n"
   ]
  },
  {
   "cell_type": "markdown",
   "id": "31ac3acd-c34d-4537-8232-ca8f2e5c92bc",
   "metadata": {},
   "source": [
    "### find the Sobol parameter sequence for the parameter set\n",
    "\n",
    "1. Temperature\n",
    "2. Oxygen\n",
    "3. Porosity\n",
    "4. DIC\n",
    "5. TA\n",
    "6. Boundary layer thickness\n",
    "7. POC flux\n",
    "8. PIC flux"
   ]
  },
  {
   "cell_type": "code",
   "execution_count": 5,
   "id": "ce8f9e48-7209-4b89-9d40-5633d601622b",
   "metadata": {},
   "outputs": [
    {
     "data": {
      "text/plain": [
       "(1024, 8)"
      ]
     },
     "execution_count": 5,
     "metadata": {},
     "output_type": "execute_result"
    }
   ],
   "source": [
    "dim = 8\n",
    "exps = 1024\n",
    "sampler = qmc.Sobol(d=dim, scramble=True, seed=10)\n",
    "sample_qmc = sampler.random(n=exps)  #here, n=256=2^8 \n",
    "sample_qmc.shape\n"
   ]
  },
  {
   "cell_type": "markdown",
   "id": "e76c6d59-1d5e-4c3e-80f7-ad2707adc627",
   "metadata": {},
   "source": [
    "### Define the parameter ranges"
   ]
  },
  {
   "cell_type": "code",
   "execution_count": 6,
   "id": "77d05e8a-abf7-4633-9935-230c6f4eae58",
   "metadata": {},
   "outputs": [
    {
     "name": "stdout",
     "output_type": "stream",
     "text": [
      "            min      max\n",
      "T        5.0000    34.00\n",
      "O2       0.3200   450.00\n",
      "P       40.0000    92.00\n",
      "DIC   1500.0000  2500.00\n",
      "TA    2200.0000  2500.00\n",
      "BL       0.0001     0.10\n",
      "fPOC     0.1100     7.00\n",
      "fPIC     0.0002     0.62\n"
     ]
    }
   ],
   "source": [
    "# Define your data\n",
    "data = {\n",
    "    \"T\": [5.0, 34.0],\n",
    "    \"O2\": [0.32, 450.0],\n",
    "    \"P\": [40.0, 92.0],\n",
    "    \"DIC\": [1500.0, 2500.0],\n",
    "    \"TA\": [2200.0, 2500.0],\n",
    "    \"BL\": [1e-4, 0.1],\n",
    "    \"fPOC\": [0.11, 7.0],\n",
    "    \"fPIC\": [2e-4, 0.62]\n",
    "}\n",
    "\n",
    "# Create DataFrame with variable names as rows\n",
    "param_ranges = pd.DataFrame(data, index=[\"min\", \"max\"]).T\n",
    "\n",
    "# Display the DataFrame\n",
    "print(param_ranges)\n"
   ]
  },
  {
   "cell_type": "markdown",
   "id": "839bfc05-0bf0-4864-a272-a8328e52c3a1",
   "metadata": {},
   "source": [
    "### Determine the parameter sets"
   ]
  },
  {
   "cell_type": "code",
   "execution_count": 12,
   "id": "8d42f946-a67d-40d4-a448-93761e2b3c23",
   "metadata": {},
   "outputs": [
    {
     "data": {
      "text/html": [
       "<div>\n",
       "<style scoped>\n",
       "    .dataframe tbody tr th:only-of-type {\n",
       "        vertical-align: middle;\n",
       "    }\n",
       "\n",
       "    .dataframe tbody tr th {\n",
       "        vertical-align: top;\n",
       "    }\n",
       "\n",
       "    .dataframe thead th {\n",
       "        text-align: right;\n",
       "    }\n",
       "</style>\n",
       "<table border=\"1\" class=\"dataframe\">\n",
       "  <thead>\n",
       "    <tr style=\"text-align: right;\">\n",
       "      <th></th>\n",
       "      <th>T</th>\n",
       "      <th>O2</th>\n",
       "      <th>P</th>\n",
       "      <th>DIC</th>\n",
       "      <th>TA</th>\n",
       "      <th>BL</th>\n",
       "      <th>fPOC</th>\n",
       "      <th>fPIC</th>\n",
       "    </tr>\n",
       "  </thead>\n",
       "  <tbody>\n",
       "    <tr>\n",
       "      <th>0</th>\n",
       "      <td>33.625886</td>\n",
       "      <td>361.139874</td>\n",
       "      <td>40.596738</td>\n",
       "      <td>1675.774775</td>\n",
       "      <td>2448.989363</td>\n",
       "      <td>0.002136</td>\n",
       "      <td>0.307213</td>\n",
       "      <td>0.189708</td>\n",
       "    </tr>\n",
       "    <tr>\n",
       "      <th>1</th>\n",
       "      <td>19.477119</td>\n",
       "      <td>126.119515</td>\n",
       "      <td>75.048578</td>\n",
       "      <td>2184.886507</td>\n",
       "      <td>2219.617299</td>\n",
       "      <td>0.072888</td>\n",
       "      <td>5.046243</td>\n",
       "      <td>0.489174</td>\n",
       "    </tr>\n",
       "    <tr>\n",
       "      <th>2</th>\n",
       "      <td>9.368693</td>\n",
       "      <td>251.034268</td>\n",
       "      <td>59.779416</td>\n",
       "      <td>1758.300880</td>\n",
       "      <td>2349.990370</td>\n",
       "      <td>0.089110</td>\n",
       "      <td>2.712931</td>\n",
       "      <td>0.404047</td>\n",
       "    </tr>\n",
       "    <tr>\n",
       "      <th>3</th>\n",
       "      <td>23.796895</td>\n",
       "      <td>7.885492</td>\n",
       "      <td>82.068925</td>\n",
       "      <td>2256.029730</td>\n",
       "      <td>2419.397507</td>\n",
       "      <td>0.035869</td>\n",
       "      <td>5.723048</td>\n",
       "      <td>0.081283</td>\n",
       "    </tr>\n",
       "    <tr>\n",
       "      <th>4</th>\n",
       "      <td>20.025189</td>\n",
       "      <td>327.489475</td>\n",
       "      <td>66.731915</td>\n",
       "      <td>2494.138729</td>\n",
       "      <td>2356.045527</td>\n",
       "      <td>0.021367</td>\n",
       "      <td>2.485381</td>\n",
       "      <td>0.339892</td>\n",
       "    </tr>\n",
       "    <tr>\n",
       "      <th>...</th>\n",
       "      <td>...</td>\n",
       "      <td>...</td>\n",
       "      <td>...</td>\n",
       "      <td>...</td>\n",
       "      <td>...</td>\n",
       "      <td>...</td>\n",
       "      <td>...</td>\n",
       "      <td>...</td>\n",
       "    </tr>\n",
       "    <tr>\n",
       "      <th>1019</th>\n",
       "      <td>20.064251</td>\n",
       "      <td>203.610556</td>\n",
       "      <td>50.305917</td>\n",
       "      <td>2279.227675</td>\n",
       "      <td>2410.998535</td>\n",
       "      <td>0.027035</td>\n",
       "      <td>2.764901</td>\n",
       "      <td>0.072901</td>\n",
       "    </tr>\n",
       "    <tr>\n",
       "      <th>1020</th>\n",
       "      <td>23.772648</td>\n",
       "      <td>361.654528</td>\n",
       "      <td>65.642232</td>\n",
       "      <td>2470.943280</td>\n",
       "      <td>2361.855560</td>\n",
       "      <td>0.016032</td>\n",
       "      <td>6.419166</td>\n",
       "      <td>0.434071</td>\n",
       "    </tr>\n",
       "    <tr>\n",
       "      <th>1021</th>\n",
       "      <td>9.393796</td>\n",
       "      <td>125.481340</td>\n",
       "      <td>82.306307</td>\n",
       "      <td>1981.027043</td>\n",
       "      <td>2292.395491</td>\n",
       "      <td>0.059176</td>\n",
       "      <td>2.540755</td>\n",
       "      <td>0.127351</td>\n",
       "    </tr>\n",
       "    <tr>\n",
       "      <th>1022</th>\n",
       "      <td>19.452958</td>\n",
       "      <td>250.464834</td>\n",
       "      <td>46.028037</td>\n",
       "      <td>2087.161059</td>\n",
       "      <td>2239.370142</td>\n",
       "      <td>0.078922</td>\n",
       "      <td>3.919875</td>\n",
       "      <td>0.222333</td>\n",
       "    </tr>\n",
       "    <tr>\n",
       "      <th>1023</th>\n",
       "      <td>33.651068</td>\n",
       "      <td>8.358877</td>\n",
       "      <td>76.529778</td>\n",
       "      <td>1585.861464</td>\n",
       "      <td>2468.787123</td>\n",
       "      <td>0.046266</td>\n",
       "      <td>1.770797</td>\n",
       "      <td>0.532983</td>\n",
       "    </tr>\n",
       "  </tbody>\n",
       "</table>\n",
       "<p>1024 rows × 8 columns</p>\n",
       "</div>"
      ],
      "text/plain": [
       "              T          O2          P          DIC           TA        BL  \\\n",
       "0     33.625886  361.139874  40.596738  1675.774775  2448.989363  0.002136   \n",
       "1     19.477119  126.119515  75.048578  2184.886507  2219.617299  0.072888   \n",
       "2      9.368693  251.034268  59.779416  1758.300880  2349.990370  0.089110   \n",
       "3     23.796895    7.885492  82.068925  2256.029730  2419.397507  0.035869   \n",
       "4     20.025189  327.489475  66.731915  2494.138729  2356.045527  0.021367   \n",
       "...         ...         ...        ...          ...          ...       ...   \n",
       "1019  20.064251  203.610556  50.305917  2279.227675  2410.998535  0.027035   \n",
       "1020  23.772648  361.654528  65.642232  2470.943280  2361.855560  0.016032   \n",
       "1021   9.393796  125.481340  82.306307  1981.027043  2292.395491  0.059176   \n",
       "1022  19.452958  250.464834  46.028037  2087.161059  2239.370142  0.078922   \n",
       "1023  33.651068    8.358877  76.529778  1585.861464  2468.787123  0.046266   \n",
       "\n",
       "          fPOC      fPIC  \n",
       "0     0.307213  0.189708  \n",
       "1     5.046243  0.489174  \n",
       "2     2.712931  0.404047  \n",
       "3     5.723048  0.081283  \n",
       "4     2.485381  0.339892  \n",
       "...        ...       ...  \n",
       "1019  2.764901  0.072901  \n",
       "1020  6.419166  0.434071  \n",
       "1021  2.540755  0.127351  \n",
       "1022  3.919875  0.222333  \n",
       "1023  1.770797  0.532983  \n",
       "\n",
       "[1024 rows x 8 columns]"
      ]
     },
     "execution_count": 12,
     "metadata": {},
     "output_type": "execute_result"
    }
   ],
   "source": [
    "param_sets = np.zeros((exps,dim))\n",
    "\n",
    "# Loop over variables correctly\n",
    "for ii, var in enumerate(param_ranges.index):\n",
    "    param_sets[:, ii] = (\n",
    "        param_ranges.loc[var, \"min\"]\n",
    "        + (param_ranges.loc[var, \"max\"] - param_ranges.loc[var, \"min\"])\n",
    "        * sample_qmc[:, ii]\n",
    "    )\n",
    "\n",
    "names = param_ranges.index\n",
    "df = pd.DataFrame(param_sets, columns=names)\n",
    "df"
   ]
  },
  {
   "cell_type": "markdown",
   "id": "dc75f46a-71f7-4e0f-bf4f-f2972aff6961",
   "metadata": {},
   "source": [
    "### Save the parameter sets to an excel spreadsheet"
   ]
  },
  {
   "cell_type": "code",
   "execution_count": 13,
   "id": "0b4a338f-5c15-47b2-b781-873837104388",
   "metadata": {},
   "outputs": [],
   "source": [
    "os.chdir(wrkdir)\n",
    "df.to_excel('parameter_sets_1024.xlsx')\n"
   ]
  },
  {
   "cell_type": "code",
   "execution_count": null,
   "id": "89608097-65cd-4d47-8de8-6bf684f4d63a",
   "metadata": {},
   "outputs": [],
   "source": []
  },
  {
   "cell_type": "code",
   "execution_count": null,
   "id": "57c713be-1562-4206-8950-01a9fbfb8966",
   "metadata": {},
   "outputs": [],
   "source": []
  }
 ],
 "metadata": {
  "kernelspec": {
   "display_name": "Python 3 (ipykernel)",
   "language": "python",
   "name": "python3"
  },
  "language_info": {
   "codemirror_mode": {
    "name": "ipython",
    "version": 3
   },
   "file_extension": ".py",
   "mimetype": "text/x-python",
   "name": "python",
   "nbconvert_exporter": "python",
   "pygments_lexer": "ipython3",
   "version": "3.10.16"
  }
 },
 "nbformat": 4,
 "nbformat_minor": 5
}
